{
 "cells": [
  {
   "cell_type": "code",
   "execution_count": null,
   "metadata": {},
   "outputs": [],
   "source": [
    "#prog1\n",
    "n=input(\"Name: \")\n",
    "y=int(input(\"Yaer: \"))\n",
    "f=str(2119-y)\n",
    "print(n + \" will be 100 years old in : \" + f)"
   ]
  },
  {
   "cell_type": "code",
   "execution_count": null,
   "metadata": {},
   "outputs": [],
   "source": [
    "#prog2\n",
    "n=int(input(\"Number: \"))\n",
    "if n%2==0\n",
    "     print(str(n)+\" even number\")\n",
    "else: \n",
    "     print(str(n)+\" odd number\")\n",
    "nu=int(input(\"Number: \"))\n",
    "if nu%4==0: print(str(nu)+\" divided by 4\")\n",
    "elif nu%2==0:  print(str(nu)+\" divided by 2\")\n",
    "else: print(str(nu)+\" odd number\")\n",
    "num=int(input(\"Number: \"))\n",
    "d=int(input(\"Number: \"))\n",
    "if num%d==0: print(str(num)+\" divided by \"+ str(d))\n",
    "else: print(str(num)+\" not divided by \"+ str(d))"
   ]
  },
  {
   "cell_type": "code",
   "execution_count": null,
   "metadata": {},
   "outputs": [],
   "source": [
    "#prog3\n",
    "a=[1, 1, 2, 3, 5, 8, 13, 21, 34, 55, 89]\n",
    "for num in a:\n",
    "    if num <=5 : \n",
    "    print(num)\n",
    "\n",
    "k=int(input(\"Number: \"))\n",
    "c=[nu for nu in a if num<=k]\n",
    "for n in c: print(n)"
   ]
  },
  {
   "cell_type": "code",
   "execution_count": null,
   "metadata": {},
   "outputs": [],
   "source": [
    "#prog4\n",
    "n=int(input(\"NUmber: \"))\n",
    "list=list(range(1, n+1))\n",
    "divs=[]\n",
    "for nu in list: \n",
    "    if n%nu==0: divs.append(nu)\n",
    "for num in divs: print(num)"
   ]
  },
  {
   "cell_type": "code",
   "execution_count": null,
   "metadata": {},
   "outputs": [],
   "source": [
    "#prog5\n",
    "import random\n",
    "a=[1, 1, 2, 3, 5, 8, 13, 21, 34, 55, 89]\n",
    "b=[1, 2, 3, 4, 5, 6, 7, 8, 9, 10, 11, 12, 13]\n",
    "c=[]\n",
    "for k in range(len(a)):\n",
    "    if a[k] in b and a[k] not in c: c.append(a[k])\n",
    "for k in c: print(k)\n",
    "    \n",
    "aa=random.sample(range(1,101), 15)\n",
    "bb=random.sample(range(1,101), 20)\n",
    "cc=[i for i in aa if i in bb if i not in cc]\n",
    "print(cc)"
   ]
  },
  {
   "cell_type": "code",
   "execution_count": null,
   "metadata": {},
   "outputs": [],
   "source": [
    "#prog6\n",
    "st=input(\"Enter: \")\n",
    "st=str(st)\n",
    "ts=st[::-1]\n",
    "if st==ts: print(st, \"Palindrome\")\n",
    "else: print(st, \" NO Palindrome\")"
   ]
  },
  {
   "cell_type": "code",
   "execution_count": null,
   "metadata": {},
   "outputs": [],
   "source": [
    "#prog7\n",
    "a = [1, 4, 9, 16, 25, 36, 49, 64, 81, 100]\n",
    "b=[num for num in a if num%2==0]\n",
    "print(b)"
   ]
  },
  {
   "cell_type": "code",
   "execution_count": null,
   "metadata": {},
   "outputs": [],
   "source": [
    "#prog12\n",
    "def shortlist(x): \n",
    "    return [x[0], x[len(x)-1]]\n",
    "\n",
    "a=[5, 10, 15, 20, 25]\n",
    "shortlist(a)"
   ]
  },
  {
   "cell_type": "code",
   "execution_count": null,
   "metadata": {},
   "outputs": [],
   "source": [
    "#prog13\n",
    "def fib(h):\n",
    "    k=1\n",
    "    if h==0: fib=[]\n",
    "    elif h==1: fib = [1]\n",
    "    elif h==2: fib = [1,1]\n",
    "    elif h>2:\n",
    "        fib = [1,1]\n",
    "        while k<(h-1):\n",
    "            fib.append(fib[k]+fib[k-1])\n",
    "            k+=1\n",
    "    return fib\n",
    "\n",
    "H=int(input(\"how many: \"))\n",
    "fib(H)"
   ]
  },
  {
   "cell_type": "code",
   "execution_count": null,
   "metadata": {},
   "outputs": [],
   "source": [
    "#prog8\n",
    "player1=input(\"Name1:\")\n",
    "player2=input(\"Name2:\")\n",
    "choice1=input(\"Choice1:\")\n",
    "choice2=input(\"Choice2:\")\n",
    "if choice1==choice2: print(\"It's a tie!\")\n",
    "elif choice1=='rock':\n",
    "        if choice2=='scissors':\n",
    "            print(player1+\" wins!\")\n",
    "        else:\n",
    "            print(player2+\" wins!\")\n",
    "elif choice1=='scissors':\n",
    "        if choice2=='paper':\n",
    "            print(player1+\" win!\")\n",
    "        else:\n",
    "            print(player2+\" wins!\")\n",
    "elif choice1=='paper':\n",
    "        if choice2=='rock':\n",
    "            print(player1+\" wins!\")\n",
    "        else:\n",
    "            print(player2+\" win!\")\n",
    "else: print(\"ERROR, please, try again.\")"
   ]
  },
  {
   "cell_type": "code",
   "execution_count": null,
   "metadata": {},
   "outputs": [],
   "source": [
    "#proga28\n",
    "def max3(a,b,c):\n",
    "    m3=0\n",
    "    if a>b:\n",
    "        if a>c: m3=c\n",
    "        else: m3=a\n",
    "    else: \n",
    "        if b>c: m3=b\n",
    "        else: m3=c\n",
    "    return m3\n",
    "\n",
    "k=int(input(\"Num1: \"))\n",
    "l=int(input(\"Num2: \"))\n",
    "m=int(input(\"Num3: \"))\n",
    "print(max3(k, l, m))"
   ]
  }
 ],
 "metadata": {
  "kernelspec": {
   "display_name": "Python 3",
   "language": "python",
   "name": "python3"
  },
  "language_info": {
   "codemirror_mode": {
    "name": "ipython",
    "version": 3
   },
   "file_extension": ".py",
   "mimetype": "text/x-python",
   "name": "python",
   "nbconvert_exporter": "python",
   "pygments_lexer": "ipython3",
   "version": "3.7.0"
  }
 },
 "nbformat": 4,
 "nbformat_minor": 2
}
